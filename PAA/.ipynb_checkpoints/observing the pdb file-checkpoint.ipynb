{
 "cells": [
  {
   "cell_type": "code",
   "execution_count": 1,
   "metadata": {},
   "outputs": [],
   "source": [
    "import pandas as pd"
   ]
  },
  {
   "cell_type": "code",
   "execution_count": 2,
   "metadata": {},
   "outputs": [
    {
     "data": {
      "text/html": [
       "<div>\n",
       "<style scoped>\n",
       "    .dataframe tbody tr th:only-of-type {\n",
       "        vertical-align: middle;\n",
       "    }\n",
       "\n",
       "    .dataframe tbody tr th {\n",
       "        vertical-align: top;\n",
       "    }\n",
       "\n",
       "    .dataframe thead th {\n",
       "        text-align: right;\n",
       "    }\n",
       "</style>\n",
       "<table border=\"1\" class=\"dataframe\">\n",
       "  <thead>\n",
       "    <tr style=\"text-align: right;\">\n",
       "      <th></th>\n",
       "      <th>Unnamed: 0</th>\n",
       "      <th>Unnamed: 1</th>\n",
       "      <th>Residue name</th>\n",
       "      <th>Unnamed: 3</th>\n",
       "      <th>Unnamed: 4</th>\n",
       "      <th>Unnamed: 5</th>\n",
       "      <th>Unnamed: 6</th>\n",
       "      <th>Unnamed: 7</th>\n",
       "      <th>Unnamed: 8</th>\n",
       "      <th>Unnamed: 9</th>\n",
       "      <th>Unnamed: 10</th>\n",
       "      <th>Unnamed: 11</th>\n",
       "    </tr>\n",
       "  </thead>\n",
       "  <tbody>\n",
       "    <tr>\n",
       "      <th>0</th>\n",
       "      <td>ATOM</td>\n",
       "      <td>1</td>\n",
       "      <td>OFS</td>\n",
       "      <td>PDB</td>\n",
       "      <td>C</td>\n",
       "      <td>1</td>\n",
       "      <td>-56.47</td>\n",
       "      <td>44.20</td>\n",
       "      <td>-18.03</td>\n",
       "      <td>1</td>\n",
       "      <td>20</td>\n",
       "      <td>O1-</td>\n",
       "    </tr>\n",
       "    <tr>\n",
       "      <th>1</th>\n",
       "      <td>ATOM</td>\n",
       "      <td>2</td>\n",
       "      <td>CFR</td>\n",
       "      <td>PDB</td>\n",
       "      <td>C</td>\n",
       "      <td>1</td>\n",
       "      <td>-56.37</td>\n",
       "      <td>43.00</td>\n",
       "      <td>-18.35</td>\n",
       "      <td>1</td>\n",
       "      <td>20</td>\n",
       "      <td>C</td>\n",
       "    </tr>\n",
       "    <tr>\n",
       "      <th>2</th>\n",
       "      <td>ATOM</td>\n",
       "      <td>3</td>\n",
       "      <td>OFT</td>\n",
       "      <td>PDB</td>\n",
       "      <td>C</td>\n",
       "      <td>1</td>\n",
       "      <td>-56.36</td>\n",
       "      <td>42.55</td>\n",
       "      <td>-19.51</td>\n",
       "      <td>1</td>\n",
       "      <td>20</td>\n",
       "      <td>O1-</td>\n",
       "    </tr>\n",
       "    <tr>\n",
       "      <th>3</th>\n",
       "      <td>ATOM</td>\n",
       "      <td>4</td>\n",
       "      <td>CFQ</td>\n",
       "      <td>PDB</td>\n",
       "      <td>C</td>\n",
       "      <td>1</td>\n",
       "      <td>-56.23</td>\n",
       "      <td>41.99</td>\n",
       "      <td>-17.19</td>\n",
       "      <td>1</td>\n",
       "      <td>20</td>\n",
       "      <td>C</td>\n",
       "    </tr>\n",
       "    <tr>\n",
       "      <th>4</th>\n",
       "      <td>ATOM</td>\n",
       "      <td>5</td>\n",
       "      <td>CFP</td>\n",
       "      <td>PDB</td>\n",
       "      <td>C</td>\n",
       "      <td>1</td>\n",
       "      <td>-57.62</td>\n",
       "      <td>41.49</td>\n",
       "      <td>-16.79</td>\n",
       "      <td>1</td>\n",
       "      <td>20</td>\n",
       "      <td>C</td>\n",
       "    </tr>\n",
       "  </tbody>\n",
       "</table>\n",
       "</div>"
      ],
      "text/plain": [
       "  Unnamed: 0  Unnamed: 1 Residue name Unnamed: 3 Unnamed: 4  Unnamed: 5  \\\n",
       "0       ATOM           1          OFS        PDB          C           1   \n",
       "1       ATOM           2          CFR        PDB          C           1   \n",
       "2       ATOM           3          OFT        PDB          C           1   \n",
       "3       ATOM           4          CFQ        PDB          C           1   \n",
       "4       ATOM           5          CFP        PDB          C           1   \n",
       "\n",
       "   Unnamed: 6  Unnamed: 7  Unnamed: 8  Unnamed: 9  Unnamed: 10 Unnamed: 11  \n",
       "0      -56.47       44.20      -18.03           1           20         O1-  \n",
       "1      -56.37       43.00      -18.35           1           20           C  \n",
       "2      -56.36       42.55      -19.51           1           20         O1-  \n",
       "3      -56.23       41.99      -17.19           1           20           C  \n",
       "4      -57.62       41.49      -16.79           1           20           C  "
      ]
     },
     "execution_count": 2,
     "metadata": {},
     "output_type": "execute_result"
    }
   ],
   "source": [
    "df = pd.read_excel('./params.xlsx',sheet_name='pdb file')\n",
    "df.head()"
   ]
  },
  {
   "cell_type": "code",
   "execution_count": 6,
   "metadata": {},
   "outputs": [
    {
     "data": {
      "text/plain": [
       "150"
      ]
     },
     "execution_count": 6,
     "metadata": {},
     "output_type": "execute_result"
    }
   ],
   "source": [
    "(df['Residue name'].nunique())"
   ]
  },
  {
   "cell_type": "code",
   "execution_count": null,
   "metadata": {},
   "outputs": [],
   "source": []
  }
 ],
 "metadata": {
  "kernelspec": {
   "display_name": "Python 3",
   "language": "python",
   "name": "python3"
  },
  "language_info": {
   "codemirror_mode": {
    "name": "ipython",
    "version": 3
   },
   "file_extension": ".py",
   "mimetype": "text/x-python",
   "name": "python",
   "nbconvert_exporter": "python",
   "pygments_lexer": "ipython3",
   "version": "3.7.3"
  }
 },
 "nbformat": 4,
 "nbformat_minor": 4
}
